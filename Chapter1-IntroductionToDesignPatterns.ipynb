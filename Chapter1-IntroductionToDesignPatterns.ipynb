{
  "nbformat": 4,
  "nbformat_minor": 0,
  "metadata": {
    "colab": {
      "name": "Java-Colab.ipynb",
      "provenance": [],
      "collapsed_sections": [],
      "include_colab_link": true
    },
    "kernelspec": {
      "name": "java",
      "display_name": "Java"
    }
  },
  "cells": [
    {
      "cell_type": "markdown",
      "metadata": {
        "id": "view-in-github",
        "colab_type": "text"
      },
      "source": [
        "<a href=\"https://colab.research.google.com/github/CodeHunterOfficial/HeadFirstDesignPatternsJava/blob/main/Chapter1-IntroductionToDesignPatterns.ipynb\" target=\"_parent\"><img src=\"https://colab.research.google.com/assets/colab-badge.svg\" alt=\"Open In Colab\"/></a>"
      ]
    },
    {
      "cell_type": "markdown",
      "metadata": {
        "id": "CBWQIvc0Ov3P"
      },
      "source": [
        "# Prepare Java Kernel for Google Colab\n",
        "This notebook is a template to use Java in Google Colaboratory (inspired by [Google Colab Javascript QuickStart](https://dev.to/obenjiro/silence-of-the-fans-part-1-javascript-quickstart-5f3m)). It uses [IJava](https://github.com/SpencerPark/IJava) as the Jupyter Kernel.\n",
        "1. Run the cell bellow (click it and press `Shift`+`Enter`),\n",
        "2. then refresh the page (press `F5`) right after that.\n",
        "\n",
        "Now you can write Java code. "
      ]
    },
    {
      "cell_type": "code",
      "metadata": {
        "id": "RwIAuN1IKtUo",
        "outputId": "56e9ffa0-a780-43df-9176-a5fec6271ced",
        "colab": {
          "base_uri": "https://localhost:8080/",
          "height": 873
        }
      },
      "source": [
        "!apt update -q\n",
        "!apt-get install -q openjdk-11-jdk-headless\n",
        "!curl -L https://github.com/SpencerPark/IJava/releases/download/v1.3.0/ijava-1.3.0.zip -o ijava-kernel.zip\n",
        "!unzip -q ijava-kernel.zip -d ijava-kernel && cd ijava-kernel && python3 install.py --sys-prefix\n",
        "!jupyter kernelspec list"
      ],
      "execution_count": null,
      "outputs": [
        {
          "output_type": "stream",
          "text": [
            "Get:1 http://security.ubuntu.com/ubuntu bionic-security InRelease [88.7 kB]\n",
            "Ign:2 https://developer.download.nvidia.com/compute/cuda/repos/ubuntu1804/x86_64  InRelease\n",
            "Ign:3 https://developer.download.nvidia.com/compute/machine-learning/repos/ubuntu1804/x86_64  InRelease\n",
            "Hit:4 http://archive.ubuntu.com/ubuntu bionic InRelease\n",
            "Hit:5 https://developer.download.nvidia.com/compute/cuda/repos/ubuntu1804/x86_64  Release\n",
            "Get:6 https://developer.download.nvidia.com/compute/machine-learning/repos/ubuntu1804/x86_64  Release [564 B]\n",
            "Get:7 https://developer.download.nvidia.com/compute/machine-learning/repos/ubuntu1804/x86_64  Release.gpg [833 B]\n",
            "Get:8 http://archive.ubuntu.com/ubuntu bionic-updates InRelease [88.7 kB]\n",
            "Get:9 http://security.ubuntu.com/ubuntu bionic-security/universe amd64 Packages [834 kB]\n",
            "Get:10 https://cloud.r-project.org/bin/linux/ubuntu bionic-cran35/ InRelease [3,626 B]\n",
            "Get:11 http://security.ubuntu.com/ubuntu bionic-security/main amd64 Packages [870 kB]\n",
            "Get:12 http://security.ubuntu.com/ubuntu bionic-security/restricted amd64 Packages [37.0 kB]\n",
            "Get:13 http://archive.ubuntu.com/ubuntu bionic-backports InRelease [74.6 kB]\n",
            "Get:15 https://developer.download.nvidia.com/compute/machine-learning/repos/ubuntu1804/x86_64  Packages [31.7 kB]\n",
            "Get:16 https://cloud.r-project.org/bin/linux/ubuntu bionic-cran35/ Packages [87.7 kB]\n",
            "Get:17 http://archive.ubuntu.com/ubuntu bionic-updates/main amd64 Packages [1,161 kB]\n",
            "Get:18 http://archive.ubuntu.com/ubuntu bionic-updates/multiverse amd64 Packages [12.2 kB]\n",
            "Get:19 http://archive.ubuntu.com/ubuntu bionic-updates/restricted amd64 Packages [50.4 kB]\n",
            "Get:20 http://archive.ubuntu.com/ubuntu bionic-updates/universe amd64 Packages [1,365 kB]\n",
            "Get:21 http://archive.ubuntu.com/ubuntu bionic-backports/universe amd64 Packages [4,247 B]\n",
            "Hit:22 http://ppa.launchpad.net/graphics-drivers/ppa/ubuntu bionic InRelease\n",
            "Get:23 http://ppa.launchpad.net/marutter/c2d4u3.5/ubuntu bionic InRelease [15.4 kB]\n",
            "Get:24 http://ppa.launchpad.net/marutter/c2d4u3.5/ubuntu bionic/main Sources [1,789 kB]\n",
            "Get:25 http://ppa.launchpad.net/marutter/c2d4u3.5/ubuntu bionic/main amd64 Packages [863 kB]\n",
            "Fetched 7,378 kB in 7s (1,028 kB/s)\n",
            "Reading package lists...\n",
            "Building dependency tree...\n",
            "Reading state information...\n",
            "53 packages can be upgraded. Run 'apt list --upgradable' to see them.\n",
            "Reading package lists...\n",
            "Building dependency tree...\n",
            "Reading state information...\n",
            "Suggested packages:\n",
            "  openjdk-11-demo openjdk-11-source\n",
            "The following NEW packages will be installed:\n",
            "  openjdk-11-jdk-headless\n",
            "0 upgraded, 1 newly installed, 0 to remove and 53 not upgraded.\n",
            "Need to get 193 MB of archives.\n",
            "After this operation, 202 MB of additional disk space will be used.\n",
            "Get:1 http://archive.ubuntu.com/ubuntu bionic-updates/main amd64 openjdk-11-jdk-headless amd64 11.0.6+10-1ubuntu1~18.04.1 [193 MB]\n",
            "Fetched 193 MB in 7s (28.8 MB/s)\n",
            "Selecting previously unselected package openjdk-11-jdk-headless:amd64.\n",
            "(Reading database ... 133872 files and directories currently installed.)\n",
            "Preparing to unpack .../openjdk-11-jdk-headless_11.0.6+10-1ubuntu1~18.04.1_amd64.deb ...\n",
            "Unpacking openjdk-11-jdk-headless:amd64 (11.0.6+10-1ubuntu1~18.04.1) ...\n"
          ],
          "name": "stdout"
        }
      ]
    },
    {
      "cell_type": "markdown",
      "metadata": {
        "id": "USI3wh5pQEmg"
      },
      "source": [
        "# Chapter 1: Introduction to Design Patterns\n",
        "\n",
        "## Принцип проектирования (Первый из многих принципов проектирования, которые встречаются в этой книге.)\n",
        "Выделите аспекты приложения, которые\n",
        "могут изменяться, и отделите их от тех,\n",
        "которые всегда остаются постоянными."
      ]
    },
    {
      "cell_type": "code",
      "metadata": {
        "id": "lO1aYxJrQHX0"
      },
      "source": [
        "public interface FlyBehavior {\n",
        " public void fly();\n",
        "}"
      ],
      "execution_count": null,
      "outputs": []
    },
    {
      "cell_type": "code",
      "source": [
        "public class FlyWithWings implements FlyBehavior {\n",
        " public void fly() {\n",
        "    System.out.println(\"I’m flying!!\");\n",
        " }\n",
        "}"
      ],
      "metadata": {
        "id": "H9nKjjPdsbs_"
      },
      "execution_count": null,
      "outputs": []
    },
    {
      "cell_type": "code",
      "source": [
        "public class FlyNoWay implements FlyBehavior {\n",
        " public void fly() {\n",
        "   System.out.println(\"I can’t fly\");\n",
        " }\n",
        "}"
      ],
      "metadata": {
        "id": "gQ5cCdt-sjPM"
      },
      "execution_count": null,
      "outputs": []
    },
    {
      "cell_type": "code",
      "source": [
        "public interface QuackBehavior {\n",
        "  public void quack();\n",
        "}"
      ],
      "metadata": {
        "id": "0LmBHc-Xsp_W"
      },
      "execution_count": null,
      "outputs": []
    },
    {
      "cell_type": "code",
      "source": [
        "public class Quack implements QuackBehavior {\n",
        " public void quack() {\n",
        "   System.out.println(\"Quack\");\n",
        " }\n",
        "}"
      ],
      "metadata": {
        "id": "fNK3Avpfsybg"
      },
      "execution_count": null,
      "outputs": []
    },
    {
      "cell_type": "code",
      "source": [
        "public class MuteQuack implements QuackBehavior {\n",
        " public void quack() {\n",
        "   System.out.println(\"<<Silence>>\");\n",
        " }\n",
        "}"
      ],
      "metadata": {
        "id": "NPcOqpkms5Y-"
      },
      "execution_count": null,
      "outputs": []
    },
    {
      "cell_type": "code",
      "source": [
        "public class Squeak implements QuackBehavior {\n",
        " public void quack() {\n",
        "    System.out.println(\"Squeak\");\n",
        " }\n",
        "}"
      ],
      "metadata": {
        "id": "Qj8RdRPmtEUu"
      },
      "execution_count": null,
      "outputs": []
    },
    {
      "cell_type": "code",
      "source": [
        "public abstract class Duck {\n",
        "  FlyBehavior flyBehavior;\n",
        "  QuackBehavior quackBehavior;\n",
        "  public Duck() {\n",
        "   }\n",
        "  public abstract void display();\n",
        "  public void performFly() {\n",
        "    flyBehavior.fly();\n",
        "  }\n",
        "  public void performQuack() {\n",
        "    quackBehavior.quack();\n",
        "  }\n",
        "  public void swim() {\n",
        "    System.out.println(\"All ducks float, even decoys!\");\n",
        " }\n",
        "}"
      ],
      "metadata": {
        "id": "tB6meRzosQJs"
      },
      "execution_count": null,
      "outputs": []
    },
    {
      "cell_type": "code",
      "source": [
        "public class MallardDuck extends Duck {\n",
        "  public MallardDuck() {\n",
        "    quackBehavior = new Quack();\n",
        "    flyBehavior = new FlyWithWings();\n",
        "  }\n",
        "  public void display() {\n",
        "   System.out.println(\"I’m a real Mallard duck\");\n",
        " }\n",
        "} "
      ],
      "metadata": {
        "id": "ogRADO0KtxFH"
      },
      "execution_count": null,
      "outputs": []
    },
    {
      "cell_type": "code",
      "metadata": {
        "id": "QgODg3kETMW6",
        "outputId": "a0bebf8e-94bd-4929-def5-850b6218b96d",
        "colab": {
          "base_uri": "https://localhost:8080/"
        }
      },
      "source": [
        "/*public class MiniDuckSimulator {\n",
        " public static void main(String[] args) {\n",
        "   Duck mallard = new MallardDuck();\n",
        "   mallard.performQuack();\n",
        "   mallard.performFly();\n",
        " }\n",
        "}*/\n",
        "Duck mallard = new MallardDuck();\n",
        "mallard.performQuack();\n",
        "mallard.performFly();"
      ],
      "execution_count": null,
      "outputs": [
        {
          "output_type": "stream",
          "name": "stdout",
          "text": [
            "Quack\n",
            "I’m flying!!\n"
          ]
        }
      ]
    },
    {
      "cell_type": "markdown",
      "source": [
        "#  Динамическое изменение поведения\n",
        "Согласитесь, обидно было бы наделить наших уток возможностями ди-\n",
        "намической смены поведения — и не использовать их! Предположим, вы\n",
        "хотите, чтобы тип поведения задавался set-методом подкласса (вместо\n",
        "создания экземпляра в конструкторе).\n",
        "\n",
        "## 1) Добавьте два новых метода в класс Duck:"
      ],
      "metadata": {
        "id": "6HOYsy8auju6"
      }
    },
    {
      "cell_type": "code",
      "source": [
        "public abstract class Duck {\n",
        "  FlyBehavior flyBehavior;\n",
        "  QuackBehavior quackBehavior;\n",
        "  public Duck() {\n",
        "   }\n",
        "  public abstract void display();\n",
        "  public void performFly() {\n",
        "    flyBehavior.fly();\n",
        "  }\n",
        "  public void performQuack() {\n",
        "    quackBehavior.quack();\n",
        "  }\n",
        "  public void swim() {\n",
        "    System.out.println(\"All ducks float, even decoys!\");\n",
        " }\n",
        "  public void setFlyBehavior(FlyBehavior fb) {\n",
        "   flyBehavior = fb;\n",
        " }\n",
        " public void setQuackBehavior(QuackBehavior qb) {\n",
        "  quackBehavior = qb;\n",
        " }\n",
        "}"
      ],
      "metadata": {
        "id": "kJLi7Z2jtwas"
      },
      "execution_count": null,
      "outputs": []
    },
    {
      "cell_type": "markdown",
      "source": [
        "Вызывая эти методы в любой момент, мы можем изме-\n",
        "нить поведение утки «на лету»."
      ],
      "metadata": {
        "id": "WNSgXvSLu0L_"
      }
    },
    {
      "cell_type": "markdown",
      "source": [
        "## 2) Создайте новый субкласс Duck "
      ],
      "metadata": {
        "id": "6GtGIqDWu5r6"
      }
    },
    {
      "cell_type": "code",
      "metadata": {
        "id": "TvnvdqOPXa45"
      },
      "source": [
        "public class ModelDuck extends Duck {\n",
        " public ModelDuck() {\n",
        "  flyBehavior = new FlyNoWay(); //Утка-приманка изначально летать не умеет\n",
        "  quackBehavior = new Quack();\n",
        " }\n",
        " public void display() {\n",
        "  System.out.println(\"I’m a model duck\");\n",
        " }\n",
        "}"
      ],
      "execution_count": null,
      "outputs": []
    },
    {
      "cell_type": "markdown",
      "source": [
        "## 3) Определите новый тип FlyBehavior\n",
        "Определяем новое поведение — реактивный полет."
      ],
      "metadata": {
        "id": "akd6BGsEvMnK"
      }
    },
    {
      "cell_type": "code",
      "source": [
        "public class FlyRocketPowered implements FlyBehavior {\n",
        " public void fly() {\n",
        "   System.out.println(\"I’m flying with a rocket!\");\n",
        " }\n",
        "}"
      ],
      "metadata": {
        "id": "qDijy46qvUyA"
      },
      "execution_count": null,
      "outputs": []
    },
    {
      "cell_type": "markdown",
      "source": [
        "### 4) Внесите изменения в тестовый класс(MiniDuckSimulator. java),  обавьте экземпляр ModelDuck и переведите его на реактивную тягу"
      ],
      "metadata": {
        "id": "xJ5US8vOveBj"
      }
    },
    {
      "cell_type": "code",
      "source": [
        "/*public class MiniDuckSimulator {\n",
        " public static void main(String[] args) {\n",
        "  Duck mallard = new MallardDuck();\n",
        "  mallard.performQuack();\n",
        "  mallard.performFly();\n",
        "\n",
        "  Duck model = new ModelDuck();\n",
        "  //Первый вызов performFly() передается реализации, заданной в конструкторе ModelDuck — то есть экземпляру FlyNoWay\n",
        "  model.performFly();\n",
        "  //Вызываем set-метод, унаследованный классом ModelDuck, и... утка- приманка вдруг взлетает на реактивном двигателе!\n",
        "  model.setFlyBehavior(new FlyRocketPowered());\n",
        "  //Способность утки-приманки к полету переключается динамически! Если бы реализация находилась в иерархии Duck, ТАКОЕ было бы невозможно.\n",
        "  model.performFly();\n",
        " }\n",
        "}\n",
        "*/\n",
        "\n",
        "Duck mallard = new MallardDuck();\n",
        "mallard.performQuack();\n",
        "mallard.performFly();\n",
        "\n",
        "Duck model = new ModelDuck();\n",
        "//Первый вызов performFly() передается реализации, заданной в конструкторе ModelDuck — то есть экземпляру FlyNoWay\n",
        "model.performFly();\n",
        "//Вызываем set-метод, унаследованный классом ModelDuck, и... утка- приманка вдруг взлетает на реактивном двигателе!\n",
        "model.setFlyBehavior(new FlyRocketPowered());\n",
        "//Способность утки-приманки к полету переключается динамически! Если бы реализация находилась в иерархии Duck, ТАКОЕ было бы невозможно.\n",
        "model.performFly();"
      ],
      "metadata": {
        "id": "hOvEPMWgvkSa",
        "outputId": "493d8d7b-7fa2-4005-8fe7-161c830eada0",
        "colab": {
          "base_uri": "https://localhost:8080/"
        }
      },
      "execution_count": null,
      "outputs": [
        {
          "output_type": "stream",
          "name": "stdout",
          "text": [
            "Quack\n",
            "I’m flying!!\n",
            "I can’t fly\n",
            "I’m flying with a rocket!\n"
          ]
        }
      ]
    },
    {
      "cell_type": "markdown",
      "source": [
        "## Принцип проектирования\n",
        "Отдавайте предпочтение композиции перед наследованием"
      ],
      "metadata": {
        "id": "OIbVgyLJxV7D"
      }
    }
  ]
}